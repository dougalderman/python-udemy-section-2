{
 "cells": [
  {
   "cell_type": "code",
   "execution_count": 1,
   "metadata": {
    "collapsed": false
   },
   "outputs": [
   ],
   "source": [
    "import numpy\n",
    "from numpy.random import randn"
   ]
  },
  {
   "cell_type": "code",
   "execution_count": 8,
   "metadata": {
    "collapsed": false
   },
   "outputs": [
    {
     "data": {
      "text/plain": [
       "1.668524305987363"
      ]
     },
     "execution_count": 8,
     "metadata": {
     },
     "output_type": "execute_result"
    }
   ],
   "source": [
    "#randn()"
   ]
  },
  {
   "cell_type": "code",
   "execution_count": 91,
   "metadata": {
    "collapsed": false
   },
   "outputs": [
    {
     "name": "stdout",
     "output_type": "stream",
     "text": [
      "Expected percent is 68.2%\n",
      "N is 10000000\n",
      "\n",
      "percent = 68.3%\n",
      "percent = 68.3%\n",
      "percent = 68.2%\n",
      "percent = 68.3%\n",
      "percent = 68.3%\n",
      "percent = 68.3%\n",
      "percent = 68.3%\n",
      "percent = 68.3%\n",
      "percent = 68.3%\n",
      "percent = 68.3%\n"
     ]
    }
   ],
   "source": [
    "percentList = []\n",
    "N = 10000000\n",
    "\n",
    "for i in range(10):\n",
    "    counterInRange = 0\n",
    "    counterOutOfRange = 0\n",
    "    totalCount = 0\n",
    "    percentInRange = 0.0\n",
    "    \n",
    "    for j in range(N):\n",
    "        rnum = randn()\n",
    "        if rnum >= -1 and rnum <= 1:\n",
    "            counterInRange = counterInRange + 1\n",
    "        else: \n",
    "            counterOutOfRange = counterOutOfRange + 1\n",
    "\n",
    "        totalCount = totalCount + 1\n",
    "    \n",
    "    percentInRange = (counterInRange / totalCount) * 100\n",
    "    percentList.append(percentInRange)\n",
    "    \n",
    "print('Expected percent is 68.2%')\n",
    "print('N is ' + str(N))\n",
    "print('')\n",
    "for percent in percentList:\n",
    "    print ('percent = ' + \"%.1f\" % percent + '%')\n"
   ]
  },
  {
   "cell_type": "code",
   "execution_count": 0,
   "metadata": {
    "collapsed": false
   },
   "outputs": [
   ],
   "source": [
   ]
  }
 ],
 "metadata": {
  "kernelspec": {
   "display_name": "SageMath 9.5",
   "language": "sagemath",
   "metadata": {
    "cocalc": {
     "description": "Open-source mathematical software system",
     "priority": 10,
     "url": "https://www.sagemath.org/"
    }
   },
   "name": "sage-9.5",
   "resource_dir": "/ext/jupyter/kernels/sage-9.5"
  },
  "language_info": {
   "codemirror_mode": {
    "name": "ipython",
    "version": 3
   },
   "file_extension": ".py",
   "mimetype": "text/x-python",
   "name": "python",
   "nbconvert_exporter": "python",
   "pygments_lexer": "ipython3",
   "version": "3.9.9"
  }
 },
 "nbformat": 4,
 "nbformat_minor": 4
}