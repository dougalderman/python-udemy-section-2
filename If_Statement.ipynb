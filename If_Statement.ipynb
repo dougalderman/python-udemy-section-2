{
 "cells": [
  {
   "cell_type": "code",
   "execution_count": 2,
   "metadata": {
    "collapsed": false
   },
   "outputs": [
   ],
   "source": [
    "#---- -2 ---- -1 ---- 0 ----- 1 ---- 2 -----"
   ]
  },
  {
   "cell_type": "code",
   "execution_count": 3,
   "metadata": {
    "collapsed": false
   },
   "outputs": [
   ],
   "source": [
    "import numpy as np\n",
    "from numpy.random import randn"
   ]
  },
  {
   "cell_type": "code",
   "execution_count": 4,
   "metadata": {
    "collapsed": false
   },
   "outputs": [
    {
     "data": {
      "text/plain": [
       "1.913030658526631"
      ]
     },
     "execution_count": 4,
     "metadata": {
     },
     "output_type": "execute_result"
    }
   ],
   "source": [
    "randn()"
   ]
  },
  {
   "cell_type": "code",
   "execution_count": 5,
   "metadata": {
    "collapsed": false
   },
   "outputs": [
    {
     "name": "stdout",
     "output_type": "stream",
     "text": [
      "-0.35550797438186327\n",
      "None\n"
     ]
    }
   ],
   "source": [
    "#---- -2 ---- -1 ---- 0 ----- 1 ---- 2 -----\n",
    "answer = None\n",
    "x = randn()\n",
    "if x > 1:\n",
    "    answer = \"Greater than 1\"\n",
    "print(x)\n",
    "print(answer)"
   ]
  },
  {
   "cell_type": "code",
   "execution_count": 6,
   "metadata": {
    "collapsed": false
   },
   "outputs": [
    {
     "name": "stdout",
     "output_type": "stream",
     "text": [
      "-1.1443421064206005\n",
      "Less than 1\n"
     ]
    }
   ],
   "source": [
    "#---- -2 ---- -1 ---- 0 ----- 1 ---- 2 -----\n",
    "answer = None\n",
    "x = randn()\n",
    "if x > 1:\n",
    "    answer = \"Greater than 1\"\n",
    "else:\n",
    "    answer = \"Less than 1\"\n",
    "print(x)\n",
    "print(answer)"
   ]
  },
  {
   "cell_type": "code",
   "execution_count": 7,
   "metadata": {
    "collapsed": false
   },
   "outputs": [
    {
     "name": "stdout",
     "output_type": "stream",
     "text": [
      "-2.095700989775209\n",
      "Less than -1\n"
     ]
    }
   ],
   "source": [
    "#---- -2 ---- -1 ---- 0 ----- 1 ---- 2 -----\n",
    "#Nested Statements\n",
    "answer = None\n",
    "x = randn()\n",
    "if x > 1:\n",
    "    answer = \"Greater than 1\"\n",
    "else:\n",
    "    if x >= -1:\n",
    "        answer = \"Between -1 and 1\"\n",
    "    else:\n",
    "        answer = \"Less than -1\"\n",
    "print(x)\n",
    "print(answer)"
   ]
  },
  {
   "cell_type": "code",
   "execution_count": 44,
   "metadata": {
    "collapsed": false
   },
   "outputs": [
    {
     "name": "stdout",
     "output_type": "stream",
     "text": [
      "Hello\n",
      "0.5543402086440818\n",
      "Between -1 and 1\n"
     ]
    }
   ],
   "source": [
    "#---- -2 ---- -1 ---- 0 ----- 1 ---- 2 -----\n",
    "#Chained Statements\n",
    "answer = None\n",
    "x = randn()\n",
    "if x > 1:\n",
    "    answer = \"Greater than 1\"\n",
    "elif x >= -1:\n",
    "    answer = \"Between -1 and 1\"\n",
    "else:\n",
    "    answer = \"Less than -1\"\n",
    "print(\"Hello\")\n",
    "print(x)\n",
    "print(answer)"
   ]
  },
  {
   "cell_type": "markdown",
   "metadata": {
    "collapsed": false
   },
   "source": [
    "---"
   ]
  },
  {
   "cell_type": "code",
   "execution_count": 121,
   "metadata": {
    "collapsed": false
   },
   "outputs": [
    {
     "name": "stdout",
     "output_type": "stream",
     "text": [
      "y =  -1.2257485463460849\n",
      "y < 0\n",
      "\n",
      "y =  -0.7481161050098533\n",
      "y < 0\n",
      "\n",
      "y =  -0.5853145739434997\n",
      "y < 0\n",
      "\n",
      "1.0545179754309513\n",
      "y > 0\n"
     ]
    }
   ],
   "source": [
    "y = randn()\n",
    "while y < 0:\n",
    "    print(\"y = \", y)\n",
    "    print(\"y < 0\")\n",
    "    print(\"\")\n",
    "    y = randn()\n",
    "print(y)\n",
    "print(\"y > 0\")"
   ]
  },
  {
   "cell_type": "code",
   "execution_count": 128,
   "metadata": {
    "collapsed": false
   },
   "outputs": [
    {
     "name": "stdout",
     "output_type": "stream",
     "text": [
      "x =  1.2811910863305649\n",
      "x > 0\n",
      "\n",
      "x =  1.0585459992247674\n",
      "x > 0\n",
      "\n",
      "x =  -0.7525374389178126\n",
      "x <= 0\n",
      "\n",
      "x =  0.07220487058720139\n",
      "x > 0\n",
      "\n",
      "x =  -0.9624843657222293\n",
      "x <= 0\n",
      "\n",
      "x =  -1.5285892834110648\n",
      "x <= 0\n",
      "\n",
      "x =  0.01118174363501037\n",
      "x > 0\n",
      "\n",
      "x =  0.2204731694796416\n",
      "x > 0\n",
      "\n",
      "x =  1.584187864825354\n",
      "x > 0\n",
      "\n",
      "x =  0.10011716232692645\n",
      "x > 0\n",
      "\n",
      "out of loop\n"
     ]
    }
   ],
   "source": [
    "x = randn()\n",
    "for i in range(10):\n",
    "    print(\"x = \", x)\n",
    "    if x > 0:\n",
    "        print(\"x > 0\")\n",
    "    else:\n",
    "        print(\"x <= 0\")\n",
    "    x = randn()    \n",
    "    print(\"\")\n",
    "print(\"out of loop\")"
   ]
  },
  {
   "cell_type": "code",
   "execution_count": 127,
   "metadata": {
    "collapsed": false
   },
   "outputs": [
    {
     "name": "stdout",
     "output_type": "stream",
     "text": [
      "0\n",
      "i < 5\n",
      "\n",
      "1\n",
      "i < 5\n",
      "\n",
      "2\n",
      "i < 5\n",
      "\n",
      "3\n",
      "i < 5\n",
      "\n",
      "4\n",
      "i < 5\n",
      "\n",
      "5\n",
      "i >=5 and < 8\n",
      "\n",
      "6\n",
      "i >=5 and < 8\n",
      "\n",
      "7\n",
      "i >=5 and < 8\n",
      "\n",
      "8\n",
      "i >= 8\n",
      "\n",
      "9\n",
      "i >= 8\n",
      "\n",
      "out of loop\n",
      "i =  9\n"
     ]
    }
   ],
   "source": [
    "for i in range(10):\n",
    "    print(i)\n",
    "    if i < 5:\n",
    "        print(\"i < 5\")\n",
    "    elif i < 8:\n",
    "        print(\"i >=5 and < 8\")\n",
    "    else:\n",
    "        print(\"i >= 8\")\n",
    "    print(\"\")\n",
    "    \n",
    "print(\"out of loop\")\n",
    "print(\"i = \", i)"
   ]
  },
  {
   "cell_type": "code",
   "execution_count": 0,
   "metadata": {
    "collapsed": false
   },
   "outputs": [
   ],
   "source": [
   ]
  }
 ],
 "metadata": {
  "kernelspec": {
   "display_name": "Python 3 (system-wide)",
   "language": "python",
   "metadata": {
    "cocalc": {
     "description": "Python 3 programming language",
     "priority": 100,
     "url": "https://www.python.org/"
    }
   },
   "name": "python3",
   "resource_dir": "/ext/jupyter/kernels/python3"
  },
  "language_info": {
   "codemirror_mode": {
    "name": "ipython",
    "version": 3
   },
   "file_extension": ".py",
   "mimetype": "text/x-python",
   "name": "python",
   "nbconvert_exporter": "python",
   "pygments_lexer": "ipython3",
   "version": "3.8.10"
  }
 },
 "nbformat": 4,
 "nbformat_minor": 4
}